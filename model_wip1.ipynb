{
 "cells": [
  {
   "cell_type": "markdown",
   "metadata": {},
   "source": [
    "## Import"
   ]
  },
  {
   "cell_type": "code",
   "execution_count": 62,
   "metadata": {},
   "outputs": [],
   "source": [
    "import pandas as pd\n",
    "import matplotlib.pyplot as plt\n",
    "import numpy as np\n",
    "import joblib\n",
    "import config\n",
    "\n",
    "from imblearn.over_sampling import SMOTE\n",
    "from sklearn.compose import ColumnTransformer\n",
    "from sklearn.impute import SimpleImputer\n",
    "from sklearn.linear_model import LogisticRegression as logreg\n",
    "from sklearn.metrics import classification_report, confusion_matrix\n",
    "from sklearn.model_selection import train_test_split\n",
    "from sklearn.pipeline import Pipeline\n",
    "from sklearn.preprocessing import StandardScaler, OneHotEncoder"
   ]
  },
  {
   "cell_type": "code",
   "execution_count": 38,
   "metadata": {},
   "outputs": [
    {
     "name": "stderr",
     "output_type": "stream",
     "text": [
      "/var/folders/hv/7c6y54956n9_w4470fs3q8c00000gn/T/ipykernel_572/3169631533.py:5: DtypeWarning: Columns (2583,2584,2585,2586,2587,2588,2589,4358,4359,4360,4361,4362,4363,4364,4365,4366,4367,4368,4369,4370,4371,4372,4373,4374,4375,4379,4380,4381,4382,4383,4384,4385,4386,4387,4388,4389,4390,4391,4392,4393,4394,4395,4396,4397,4398,4399,4400,4401,4405,4406,4407,4408,4409,5215,5216,5219,5220,5613,5614,5615,5616,5617,5618,5619,5620,5621,5622,5624,5625,5626,5627,5628,5629,5630,5631,5632,5633,5634,5635,5636,5638,5639,5640,5787,5788,5789,5790,5791,5792,5793,5794,5795,5796,6393,6394,6395,6396,6397,6398,6399,6400,6401,6402,6403,6619,6620,6621,6622,6623,6624,6625,6626,6627,6628,6629,6630,6631,6632,6633,6634,6635,6638,6640,6641,6642,6643,6644,6645,6646,6647,6648,6649,6650,6651,6652,6653,6654,6655,6656,6657,6658,6659,6660,6661,6664,6666,6667,6668,6669,6670,6965,6966,6967,6968,6969,6970,6971,6972,6973,6974,6975,7064,7065,7066,7067,7068,7069,7070,7071,7072,7073,7074,7163,7164,7165,7166,7167,7168,7169,7170,7171,7172,7408,7409,7410,7411,7412,7413,7414,7415,7416,7417,7418,7419,7420,8818,8819,8820,8821,8822,8823,8824,8825,8826,8827,8828,9989,9990,9991,9992,9993,9994,9995,9996,9997,9998,9999,10065,10066,10067,10068,10069,10070,10071,10072,10073,10074,10075,10076,10077,10078,10079,10080,10081,10082,10083,10085,10086,10087,10088,10089,10090,10091,10092,10093,10094,10095,10096,10097,10098,10099,10100,10101,10102,10103,10104,10105,10106,10107,10108,10109,10111,10112,10113,10114,10115,10116,10340,10341,10342,10343,10344,10736,10737,10738,10739,10740,10741,10742,10743,10744,10745,10746,10747,10748,11896,11897,11898,11899,11900,11901,11902,11903,11904,11905,11906,11907,12168,12169,12170,12171,12172,12173,12174,12175,12176,12177,12178,12179,12180,12181,12182,12183,12184,12185,12186,12187,12188,12189,12190,12191,12192,12193,13339,13340,13341,13342,13343,13344,13345,13346,13347,13348,13349,13488,13489,13490,13491,13492,13493,13494,13495,13496,13497,13498,13499,13500,13501,13502,13506,13507,13510,13511,13512,13513,13514,13515,13516,13517,13518,13519,13520,13521,13522,13523,13524,13525,13526,13530,13531,13534,13535,15787,15788,15789,15790,15791,15792,15793,15794,15795,15796,15797,15798,15799,15800,15801,15802,15805,15808,15809,15810,15811,15812,15813,15814,15815,15816,15817,15818,15819,15820,15821,15822,15823,15824,15825,15826,15829,15832,15833,15834,15951,15952,16600,16601,16602,16606,16607,16608,16612,16613,16754,16755,16756,16757,16758,16759,16760,16761,16762,16763,16764,16765,16848,17490,17491,17492,17493,17494,17495,17496,17497,17498,17499,17500,17501,17505,17506,17507,17508,17509,17510,17511,17512,17513,17514,17515,17516,17517,17521,17548,17549,17550,17551,17552,17553,17554,17555,17556,17559,17560,17563,17564,17605,17608,17628,17630,17644,17645,17646,17647,17648,17649,17650,17654,17655,17656,17657,17658,17659,17660,17797,17798,17799,17800,17801,17802,17807,17808,17809,17810,17811,17812,17813,17820,17821,17824,17914,17915,17916,17917,17980,17981,17982,17983,17984,17985,17986,17987,17988,17989,17990,17991,17992,17993,17994,17995,17996,17997,17998,17999,18000,18001,18002,18003,18004,18005,18006,18007,18008,18009,18010,18011,18012,18013,18014,18015,18055,18056,18057,18058,18059,18060,18061,18062,18063,18064,18065,18066,18067,18068,18069,18070,18071,18072,18073,18074,18075,18076,18077,18078,18079,18080,18081,18082,18083,18084,18085,18086,18087,18088,18089,18090,18091,18092,18093,18094,18095,18096,18097,18098,18099,18100,18101,18102,18103,18104,18105,18106,18107,18108,18109,18110,18111,18112,18197,18198,18199,18200,18201,18202,18204,18205,18206,18207,18208,18209,18210,18211,18212,18213,18215,18216,18217,18218,18219,18220,18221,18222,18223,18224,18225,18226,18227,18228,18229,18239,18241,18242,18243,18244,18245,18246,18247,18248,18249,18250,18251,18311,18317,18318,18319,18320,18322,18324,18329,18330,18331,18332,18333,18334,18335,18336,18337,18338,18339,18340,18341,18345,18347,18349,18351,18352,18353,18354,18355,18356,18357,18358,18359,18360,18361,18407,18409,18414,18416,18428,18429,18430,18431,18432,18433,18434,18435,18436,18437,18438,18441,18450,18451,18452,18453,18454,18455,18456,18457,18458,18459,18460,18744,18745,18746,18747,18748,18749,18750,18751,18752,18753,18754,18755,18756,18783,18784,18785,18786,18787,18788,18789,18790,18791,18792,18793,18794,18795,19062,19063,19064,19065,19066,19067,19068,19069,19070,19071,19072,19073,19074,19075,19076,19077,19078,19082,19083,19084,19085,19086,19087,19088,19089,19090,19091,19092,19093,19094,19095,19096,19097,19098,19099,19100,19101,19102,19103,19104,19108,19109,19110,19111,19112,19113,19141,19142,19143,19144,19145,19146,19147,19148,19149,19150,19160,19161,19162,19163,19164,19165,19166,19167,19168,19169,19170,19189,19190,19227,19228,20075,20076,20077,20078,20079,20080,20081,20082,20083,20084,20085,20086,20087,20165,20166,20167,20168,20169,20170,20171,20172,20173,20174,20175,20176,20177,20241,20242,20243,20244,20245,20246,20247,20248,20249,20250,20251,20252,20757,20758,20759,20760,20761,20762,20763,20764,20765,20766,20767,20768,20769,23130,23131,23132,23133,23134,23135,23136,23137,23138,23139,23140,23141,23142,23272,23273,23274,23275,23276,23277,23278,23279,23280,23281,23282,23283,23284,23414,23415,23416,23417,23418,23419,23420,23421,23422,23423,23424,23425,23426,23556,23557,23558,23559,23560,23561,23562,23563,23564,23565,23566,23567,23568,23698,23699,23700,23701,23702,23703,23704,23705,23706,23707,23708,23709,23710,23814,23815,23816,23817,23818,23819,23820,23821,23822,23823,23824,23825,23826,23827,23828,23829,23830,23835,23836,23837,23838,23839,23840,23841,23842,23843,23844,23845,23846,23847,23848,23849,23850,23851,23852,23853,23854,23855,23856,23861,23862,23863,23864,23865,24683,24684,24685,24686,24687,24688,24746,24747,24748,24749,24750,24751,24752,24974,24975,24976,24977,24978,24979,24980,24981,24982,24983,24984,24985,24986,24995,25003,25153,25154,25155,25156,25157,25158,25159,25160,25161,25162,25163,25190,25191,25192,25193,25194,25195,25196,25197,25198,25199,25200,25434,25435,25436,25437,25438,25439,25440,25441,25442,25443,25444,25445,25446,25530,25531,25532,25533,25534,25535,25536,25537,25538,25539,25540,25575,25576,25577,25578,25579,25580,25581,25582,25583,25584,25585,25658,25659,25660,25661,25662,25663,25664,25665,25666,25667,25668,25693,25694,25695,25696,25697,25698,25699,25700,25701,25702,25703,25728,25729,25730,25731,25732,25733,25734,25735,25736,25737,25738,25772,25773,25774,25775,25776,25777,25778,25779,25780,25781,25782,25849,25850,25851,25852,25853,25854,25855,25856,25857,25858,25859,25882,25883,25884,25886,25887,25888,25889,25890,25891,25892,25915,25916,25917,25918,25919,25920,25921,25922,25923,25924,25925,25959,25960,25961,25962,25963,25964,25965,25966,25967,25968,25969,26036,26037,26038,26039,26040,26041,26042,26044,26045,26046,26069,26070,26071,26072,26074,26075,26076,26077,26078,26079,26413,26414,26415,26416,26417,26418,26419,26420,26421,26422,26423,26424,26425,26865,26866,26867,26868,26869,26870,26871,26872,26873,26874,26875,26876,26877,26914,26915,26916,26917,26918,26919,26920,26921,26922,26923,26924,26925,26926,26963,26964,26965,26966,26967,26968,26969,26970,26971,26972,26973,26974,26975,27012,27015,27017,27018,27019,27020,27022,27023,27024,27061,27066,27068,27069,27070,27071,27073,27115,27118,27119,27120,27122,27164,27167,27168,27169,27171,27213,27216,27217,27218,27265,27266,27314,27810,27811,27812,27813,27814,27815,27816,27817,27818,27819,27820,27821,27822,27823,27824,27825,27826,27827,27828,27829,27830,27831,27832,27833,27834,27835,27839,27842,27844,27845,27846,27847,27848,27859,27861,27872,30979,30980,30981,30982,30983,30984,30985,30986,30987,30988,30989,30990,30991,30992,30993,30994,30995,30996,30999,31000,31001,31002,31003,31004,31005,31006,31007,31008,31009,31010,31011,31012,31013,31014,31015,31016,31017,31018,31019,31020,31021,31022,31025,31026,31027,31028,31029,31030) have mixed types. Specify dtype option on import or set low_memory=False.\n",
      "  df = pd.read_csv(data_path + '/PreFer_train_data.csv')\n"
     ]
    }
   ],
   "source": [
    "data_path = config.DATA_PATH\n",
    "\n",
    "# Load the datasets\n",
    "df = pd.read_csv(data_path + '/training_data/PreFer_train_data.csv')\n",
    "df_outcome = pd.read_csv(data_path + '/training_data/PreFer_train_outcome.csv')\n",
    "df_bg = pd.read_csv(data_path + '/other_data/PreFer_train_background_data.csv')\n",
    "df_fk = pd.read_csv(data_path + '/other_data/PreFer_fake_data.csv')\n",
    "df_fko = pd.read_csv(data_path + '/other_data/PreFer_fake_outcome.csv')"
   ]
  },
  {
   "cell_type": "markdown",
   "metadata": {},
   "source": [
    "## Clean data"
   ]
  },
  {
   "cell_type": "code",
   "execution_count": 40,
   "metadata": {},
   "outputs": [],
   "source": [
    "def clean_df(df, background_df=None, outcome_df=None):\n",
    "    \"\"\"\n",
    "    Preprocess the input dataframe to feed the model.\n",
    "    # If no cleaning is done (e.g. if all the cleaning is done in a pipeline) leave only the \"return df\" command\n",
    "\n",
    "    Parameters:\n",
    "    df (pd.DataFrame): The input dataframe containing the raw data (e.g., from PreFer_train_data.csv or PreFer_fake_data.csv).\n",
    "    background (pd.DataFrame): Optional input dataframe containing background data (e.g., from PreFer_train_background_data.csv or PreFer_fake_background_data.csv).\n",
    "\n",
    "    Returns:\n",
    "    pd.DataFrame: The cleaned dataframe with only the necessary columns and processed variables.\n",
    "    \"\"\"\n",
    "\n",
    "    # Merge the outcome data with the df\n",
    "    df = df.merge(outcome_df, on=\"nomem_encr\")\n",
    "\n",
    "    # Select variables that have a non-missing value for new_child\n",
    "    df = df[df[\"new_child\"].notnull()]\n",
    "\n",
    "    # Impute variable migration_background_bg with the mode\n",
    "    df[\"migration_background_bg\"] = df[\"migration_background_bg\"].fillna(df[\"migration_background_bg\"].mode()[0])\n",
    "\n",
    "    # Select variables for modelling\n",
    "    keepcols = [\n",
    "        \"nomem_encr\",               # ID variable required for predictions,\n",
    "        \"migration_background_bg\",  # Origin [imputed by PreFer organisers]\n",
    "        'age_bg',                   # Age of the household member on December 2020 [imputed by PreFer organisers]\n",
    "        'new_child'                 # Whether respondent had child in 2021-2023 [outcome variable]\n",
    "    ]\n",
    "\n",
    "    # Keeping data with variables selected\n",
    "    df = df[keepcols]\n",
    "\n",
    "    return df"
   ]
  },
  {
   "cell_type": "markdown",
   "metadata": {},
   "source": [
    "### Background analysis for clean_df function"
   ]
  },
  {
   "cell_type": "code",
   "execution_count": 4,
   "metadata": {},
   "outputs": [
    {
     "data": {
      "text/plain": [
       "nomem_encr                 0.000000\n",
       "outcome_available          0.000000\n",
       "birthyear_bg               0.000000\n",
       "gender_bg                  0.000000\n",
       "migration_background_bg    0.153007\n",
       "age_bg                     0.011530\n",
       "belbezig_2014              0.485510\n",
       "belbezig_2017              0.489405\n",
       "burgstat_2014              0.485510\n",
       "burgstat_2017              0.489405\n",
       "oplcat_2014                0.488470\n",
       "oplcat_2017                0.491742\n",
       "oplmet_2014                0.485510\n",
       "oplmet_2017                0.489405\n",
       "oplzon_2014                0.485510\n",
       "oplzon_2017                0.489405\n",
       "partner_2014               0.485510\n",
       "partner_2017               0.489405\n",
       "sted_2014                  0.493300\n",
       "woning_2014                0.491275\n",
       "woning_2017                0.499065\n",
       "woonvorm_2014              0.485510\n",
       "woonvorm_2017              0.489405\n",
       "dtype: float64"
      ]
     },
     "execution_count": 4,
     "metadata": {},
     "output_type": "execute_result"
    }
   ],
   "source": [
    "# Display df.columns that have less than 50% missing values\n",
    "missing_values = df.isnull().mean()\n",
    "missing_values = missing_values[missing_values < 0.5]\n",
    "missing_values"
   ]
  },
  {
   "cell_type": "code",
   "execution_count": 61,
   "metadata": {},
   "outputs": [
    {
     "data": {
      "text/plain": [
       "nomem_encr           0.000000\n",
       "outcome_available    0.000000\n",
       "cf20m_m              0.061803\n",
       "cf20m001             0.061803\n",
       "cf20m003             0.062817\n",
       "                       ...   \n",
       "oplzon_2020          0.004053\n",
       "partner_2020         0.004053\n",
       "sted_2020            0.012158\n",
       "woning_2020          0.011145\n",
       "woonvorm_2020        0.004053\n",
       "Length: 274, dtype: float64"
      ]
     },
     "execution_count": 61,
     "metadata": {},
     "output_type": "execute_result"
    }
   ],
   "source": [
    "# Display df.columns that have less than 10% missing values for rows where outcome_available = 1\n",
    "missing_values = df[df[\"outcome_available\"] == 1].isnull().mean()\n",
    "missing_values = missing_values[missing_values < 0.1]\n",
    "missing_values"
   ]
  },
  {
   "cell_type": "code",
   "execution_count": 5,
   "metadata": {},
   "outputs": [
    {
     "data": {
      "text/plain": [
       "0.0      4001\n",
       "NaN       982\n",
       "202.0     483\n",
       "102.0     369\n",
       "201.0     346\n",
       "101.0     237\n",
       "Name: migration_background_bg, dtype: int64"
      ]
     },
     "execution_count": 5,
     "metadata": {},
     "output_type": "execute_result"
    }
   ],
   "source": [
    "# Display the distribution of unique values in migration_background_bg, include nans\n",
    "df[\"migration_background_bg\"].value_counts(dropna=False)"
   ]
  },
  {
   "cell_type": "markdown",
   "metadata": {},
   "source": [
    "### Test the function"
   ]
  },
  {
   "cell_type": "code",
   "execution_count": 25,
   "metadata": {},
   "outputs": [
    {
     "data": {
      "text/html": [
       "<div>\n",
       "<style scoped>\n",
       "    .dataframe tbody tr th:only-of-type {\n",
       "        vertical-align: middle;\n",
       "    }\n",
       "\n",
       "    .dataframe tbody tr th {\n",
       "        vertical-align: top;\n",
       "    }\n",
       "\n",
       "    .dataframe thead th {\n",
       "        text-align: right;\n",
       "    }\n",
       "</style>\n",
       "<table border=\"1\" class=\"dataframe\">\n",
       "  <thead>\n",
       "    <tr style=\"text-align: right;\">\n",
       "      <th></th>\n",
       "      <th>nomem_encr</th>\n",
       "      <th>migration_background_bg</th>\n",
       "      <th>age_bg</th>\n",
       "      <th>new_child</th>\n",
       "    </tr>\n",
       "  </thead>\n",
       "  <tbody>\n",
       "    <tr>\n",
       "      <th>4</th>\n",
       "      <td>715619</td>\n",
       "      <td>0.0</td>\n",
       "      <td>30.0</td>\n",
       "      <td>0.0</td>\n",
       "    </tr>\n",
       "    <tr>\n",
       "      <th>8</th>\n",
       "      <td>716711</td>\n",
       "      <td>0.0</td>\n",
       "      <td>31.0</td>\n",
       "      <td>1.0</td>\n",
       "    </tr>\n",
       "    <tr>\n",
       "      <th>18</th>\n",
       "      <td>717188</td>\n",
       "      <td>0.0</td>\n",
       "      <td>38.0</td>\n",
       "      <td>0.0</td>\n",
       "    </tr>\n",
       "    <tr>\n",
       "      <th>19</th>\n",
       "      <td>712090</td>\n",
       "      <td>0.0</td>\n",
       "      <td>39.0</td>\n",
       "      <td>0.0</td>\n",
       "    </tr>\n",
       "    <tr>\n",
       "      <th>35</th>\n",
       "      <td>709537</td>\n",
       "      <td>101.0</td>\n",
       "      <td>35.0</td>\n",
       "      <td>0.0</td>\n",
       "    </tr>\n",
       "    <tr>\n",
       "      <th>...</th>\n",
       "      <td>...</td>\n",
       "      <td>...</td>\n",
       "      <td>...</td>\n",
       "      <td>...</td>\n",
       "    </tr>\n",
       "    <tr>\n",
       "      <th>5975</th>\n",
       "      <td>704088</td>\n",
       "      <td>0.0</td>\n",
       "      <td>30.0</td>\n",
       "      <td>1.0</td>\n",
       "    </tr>\n",
       "    <tr>\n",
       "      <th>5981</th>\n",
       "      <td>701213</td>\n",
       "      <td>101.0</td>\n",
       "      <td>31.0</td>\n",
       "      <td>0.0</td>\n",
       "    </tr>\n",
       "    <tr>\n",
       "      <th>5984</th>\n",
       "      <td>730518</td>\n",
       "      <td>0.0</td>\n",
       "      <td>37.0</td>\n",
       "      <td>1.0</td>\n",
       "    </tr>\n",
       "    <tr>\n",
       "      <th>6105</th>\n",
       "      <td>709923</td>\n",
       "      <td>0.0</td>\n",
       "      <td>23.0</td>\n",
       "      <td>0.0</td>\n",
       "    </tr>\n",
       "    <tr>\n",
       "      <th>6216</th>\n",
       "      <td>712382</td>\n",
       "      <td>202.0</td>\n",
       "      <td>30.0</td>\n",
       "      <td>1.0</td>\n",
       "    </tr>\n",
       "  </tbody>\n",
       "</table>\n",
       "<p>987 rows × 4 columns</p>\n",
       "</div>"
      ],
      "text/plain": [
       "      nomem_encr  migration_background_bg  age_bg  new_child\n",
       "4         715619                      0.0    30.0        0.0\n",
       "8         716711                      0.0    31.0        1.0\n",
       "18        717188                      0.0    38.0        0.0\n",
       "19        712090                      0.0    39.0        0.0\n",
       "35        709537                    101.0    35.0        0.0\n",
       "...          ...                      ...     ...        ...\n",
       "5975      704088                      0.0    30.0        1.0\n",
       "5981      701213                    101.0    31.0        0.0\n",
       "5984      730518                      0.0    37.0        1.0\n",
       "6105      709923                      0.0    23.0        0.0\n",
       "6216      712382                    202.0    30.0        1.0\n",
       "\n",
       "[987 rows x 4 columns]"
      ]
     },
     "execution_count": 25,
     "metadata": {},
     "output_type": "execute_result"
    }
   ],
   "source": [
    "clean_df(df)"
   ]
  },
  {
   "cell_type": "markdown",
   "metadata": {},
   "source": [
    "## Model"
   ]
  },
  {
   "cell_type": "code",
   "execution_count": 7,
   "metadata": {},
   "outputs": [],
   "source": [
    "# Create a machine learning pipeline that trains a model on the data\n",
    "\n",
    "def model_pipeline():    \n",
    "    # Define numerical and categorical features\n",
    "    numerical_features = ['age_bg']\n",
    "    categorical_features = ['migration_background_bg']\n",
    "\n",
    "    # Preprocessing for numerical features\n",
    "    numerical_transformer = Pipeline(steps=[\n",
    "        ('imputer', SimpleImputer(strategy='median')),\n",
    "        ('scaler', StandardScaler())\n",
    "    ])\n",
    "\n",
    "    # Preprocessing for categorical features\n",
    "    categorical_transformer = Pipeline(steps=[\n",
    "        ('imputer', SimpleImputer(strategy='most_frequent')),\n",
    "        ('onehot', OneHotEncoder(drop='first'))\n",
    "    ])\n",
    "\n",
    "    # Bundle preprocessing for numerical and categorical features\n",
    "    preprocessor = ColumnTransformer(\n",
    "        transformers=[\n",
    "            ('num', numerical_transformer, numerical_features),\n",
    "            ('cat', categorical_transformer, categorical_features)\n",
    "        ])\n",
    "\n",
    "    # Define model\n",
    "    model = logreg(random_state=42)\n",
    "\n",
    "    # Create and return the pipeline\n",
    "    return Pipeline(steps=[('preprocessor', preprocessor),\n",
    "                           ('model', model)])"
   ]
  },
  {
   "cell_type": "code",
   "execution_count": 41,
   "metadata": {},
   "outputs": [
    {
     "name": "stdout",
     "output_type": "stream",
     "text": [
      "    nomem_encr  migration_background_bg  age_bg  new_child\n",
      "4       715619                      0.0    30.0        0.0\n",
      "8       716711                      0.0    31.0        1.0\n",
      "18      717188                      0.0    38.0        0.0\n",
      "19      712090                      0.0    39.0        0.0\n",
      "35      709537                    101.0    35.0        0.0\n",
      "(987, 4)\n"
     ]
    }
   ],
   "source": [
    "# Define the model pipeline\n",
    "pipeline = model_pipeline()\n",
    "\n",
    "# Preprocess the fake / holdout data\n",
    "dfclean = clean_df(df, outcome_df=df_outcome)\n",
    "\n",
    "print(dfclean.head())\n",
    "print(dfclean.shape)"
   ]
  },
  {
   "cell_type": "code",
   "execution_count": 53,
   "metadata": {},
   "outputs": [],
   "source": [
    "# Create a SMOTE object\n",
    "smote = SMOTE(random_state=42)\n",
    "\n",
    "# Apply SMOTE to the data\n",
    "X_train, y_train = smote.fit_resample(dfclean, dfclean[\"new_child\"])"
   ]
  },
  {
   "cell_type": "markdown",
   "metadata": {},
   "source": [
    "### Save the trained model"
   ]
  },
  {
   "cell_type": "code",
   "execution_count": 54,
   "metadata": {},
   "outputs": [
    {
     "data": {
      "text/plain": [
       "['model.joblib']"
      ]
     },
     "execution_count": 54,
     "metadata": {},
     "output_type": "execute_result"
    }
   ],
   "source": [
    "# Fit the pipeline on the data\n",
    "pipeline.fit(X_train, y_train)\n",
    "\n",
    "# Save the model\n",
    "joblib.dump(pipeline, 'model.joblib')"
   ]
  },
  {
   "cell_type": "markdown",
   "metadata": {},
   "source": [
    "## Predict"
   ]
  },
  {
   "cell_type": "code",
   "execution_count": 44,
   "metadata": {},
   "outputs": [],
   "source": [
    "def predict_outcomes(df, background_df=None, outcome_df=df_outcome, model_path=\"model.joblib\"):\n",
    "    \"\"\"Generate predictions using the saved model and the input dataframe.\n",
    "\n",
    "    The predict_outcomes function accepts a Pandas DataFrame as an argument\n",
    "    and returns a new DataFrame with two columns: nomem_encr and\n",
    "    prediction. The nomem_encr column in the new DataFrame replicates the\n",
    "    corresponding column from the input DataFrame. The prediction\n",
    "    column contains predictions for each corresponding nomem_encr. Each\n",
    "    prediction is represented as a binary value: '0' indicates that the\n",
    "    individual did not have a child during 2021-2023, while '1' implies that\n",
    "    they did.\n",
    "\n",
    "    Parameters:\n",
    "    df (pd.DataFrame): The input dataframe for which predictions are to be made.\n",
    "    background_df (pd.DataFrame): The background dataframe for which predictions are to be made.\n",
    "    model_path (str): The path to the saved model file (which is the output of training.py).\n",
    "\n",
    "    Returns:\n",
    "    pd.DataFrame: A dataframe containing the identifiers and their corresponding predictions.\n",
    "    \"\"\"\n",
    "\n",
    "    ## This script contains a bare minimum working example\n",
    "    if \"nomem_encr\" not in df.columns:\n",
    "        print(\"The identifier variable 'nomem_encr' should be in the dataset\")\n",
    "\n",
    "    # Load the model\n",
    "    model = joblib.load(model_path)\n",
    "\n",
    "    # Preprocess the fake / holdout data\n",
    "    df = clean_df(df, background_df, outcome_df)\n",
    "\n",
    "    # Exclude the variable nomem_encr if this variable is NOT in your model\n",
    "    vars_without_id = df.columns[df.columns != 'nomem_encr']\n",
    "\n",
    "    # Generate predictions from model, should be 0 (no child) or 1 (had child)\n",
    "    predictions = model.predict(df[vars_without_id])\n",
    "\n",
    "    # Output file should be DataFrame with two columns, nomem_encr and predictions\n",
    "    df_predict = pd.DataFrame(\n",
    "        {\"nomem_encr\": df[\"nomem_encr\"], \"prediction\": predictions}\n",
    "    )\n",
    "\n",
    "    # Return only dataset with predictions and identifier\n",
    "    return df_predict"
   ]
  },
  {
   "cell_type": "code",
   "execution_count": 55,
   "metadata": {},
   "outputs": [],
   "source": [
    "df_pred = predict_outcomes(df_fk, None, df_fko)"
   ]
  },
  {
   "cell_type": "code",
   "execution_count": 58,
   "metadata": {},
   "outputs": [
    {
     "name": "stdout",
     "output_type": "stream",
     "text": [
      "(30, 31634)\n"
     ]
    }
   ],
   "source": [
    "print(df_fk.shape)"
   ]
  },
  {
   "cell_type": "code",
   "execution_count": 56,
   "metadata": {},
   "outputs": [
    {
     "name": "stdout",
     "output_type": "stream",
     "text": [
      "   nomem_encr  prediction\n",
      "0      700001         0.0\n",
      "1      700002         0.0\n",
      "2      700003         1.0\n",
      "3      700004         0.0\n",
      "4      700005         0.0\n",
      "   nomem_encr  new_child\n",
      "0      700001          1\n",
      "1      700002          0\n",
      "2      700003          0\n",
      "3      700004          0\n",
      "4      700005          0\n"
     ]
    }
   ],
   "source": [
    "print(df_pred.head()) \n",
    "print(df_fko.head())"
   ]
  },
  {
   "cell_type": "code",
   "execution_count": 57,
   "metadata": {},
   "outputs": [
    {
     "name": "stdout",
     "output_type": "stream",
     "text": [
      "Classification Report:\n",
      "              precision    recall  f1-score   support\n",
      "\n",
      "         0.0       0.74      0.87      0.80        23\n",
      "         1.0       0.00      0.00      0.00         7\n",
      "\n",
      "    accuracy                           0.67        30\n",
      "   macro avg       0.37      0.43      0.40        30\n",
      "weighted avg       0.57      0.67      0.61        30\n",
      "\n",
      "Confusion Matrix:\n",
      "[[20  3]\n",
      " [ 7  0]]\n"
     ]
    }
   ],
   "source": [
    "# Evaluate the model\n",
    "y_pred = df_pred['prediction']\n",
    "y_val = df_fko['new_child'].astype(float)\n",
    "\n",
    "# Classification report\n",
    "print(\"Classification Report:\")\n",
    "print(classification_report(y_val, y_pred))\n",
    "\n",
    "# Confusion matrix\n",
    "print(\"Confusion Matrix:\")\n",
    "print(confusion_matrix(y_val, y_pred))"
   ]
  },
  {
   "cell_type": "code",
   "execution_count": null,
   "metadata": {},
   "outputs": [],
   "source": []
  }
 ],
 "metadata": {
  "kernelspec": {
   "display_name": "uni_tilburg",
   "language": "python",
   "name": "python3"
  },
  "language_info": {
   "codemirror_mode": {
    "name": "ipython",
    "version": 3
   },
   "file_extension": ".py",
   "mimetype": "text/x-python",
   "name": "python",
   "nbconvert_exporter": "python",
   "pygments_lexer": "ipython3",
   "version": "3.11.5"
  }
 },
 "nbformat": 4,
 "nbformat_minor": 2
}
